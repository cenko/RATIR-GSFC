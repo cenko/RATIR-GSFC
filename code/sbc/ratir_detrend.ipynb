{
 "metadata": {
  "name": ""
 },
 "nbformat": 3,
 "nbformat_minor": 0,
 "worksheets": [
  {
   "cells": [
    {
     "cell_type": "code",
     "collapsed": false,
     "input": [
      "ls"
     ],
     "language": "python",
     "metadata": {},
     "outputs": [
      {
       "output_type": "stream",
       "stream": "stdout",
       "text": [
        "20130716T031009C1f.fits  20130716T031947C1f.fits  20130716T040310C1d.fits\r\n",
        "20130716T031039C1f.fits  20130716T032023C1f.fits  20130716T040434C1d.fits\r\n",
        "20130716T031108C1f.fits  20130716T032055C1f.fits  20130716T040558C1d.fits\r\n",
        "20130716T031142C1f.fits  20130716T032122C1f.fits  20130716T040722C1d.fits\r\n",
        "20130716T031209C1f.fits  20130716T032149C1f.fits  20130716T040846C1d.fits\r\n",
        "20130716T031239C1f.fits  20130716T032218C1f.fits  20130716T110452C1o.fits\r\n",
        "20130716T031309C1f.fits  20130716T032429C1b.fits  20130716T110553C1o.fits\r\n",
        "20130716T031339C1f.fits  20130716T032433C1b.fits  20130716T110629C1o.fits\r\n",
        "20130716T031416C1f.fits  20130716T032437C1b.fits  20130716T110712C1o.fits\r\n",
        "20130716T031452C1f.fits  20130716T032441C1b.fits  20130716T110750C1o.fits\r\n",
        "20130716T031522C1f.fits  20130716T032445C1b.fits  20130716T110834C1o.fits\r\n",
        "20130716T031549C1f.fits  20130716T032449C1b.fits  20130716T110910C1o.fits\r\n",
        "20130716T031616C1f.fits  20130716T032453C1b.fits  20130716T110958C1o.fits\r\n",
        "20130716T031645C1f.fits  20130716T032457C1b.fits  20130716T111041C1o.fits\r\n",
        "20130716T031714C1f.fits  20130716T035610C1d.fits  20130716T111123C1o.fits\r\n",
        "20130716T031745C1f.fits  20130716T035734C1d.fits  ratir_detrend.ipynb\r\n",
        "20130716T031815C1f.fits  20130716T035858C1d.fits  \u001b[31mratir_detrend.py\u001b[m\u001b[m*\r\n",
        "20130716T031845C1f.fits  20130716T040022C1d.fits  ratir_detrend.pyc\r\n",
        "20130716T031915C1f.fits  20130716T040146C1d.fits\r\n"
       ]
      }
     ],
     "prompt_number": 2
    },
    {
     "cell_type": "code",
     "collapsed": false,
     "input": [
      "import glob"
     ],
     "language": "python",
     "metadata": {},
     "outputs": [],
     "prompt_number": 3
    },
    {
     "cell_type": "code",
     "collapsed": false,
     "input": [
      "import ratir_detrend"
     ],
     "language": "python",
     "metadata": {},
     "outputs": [],
     "prompt_number": 5
    },
    {
     "cell_type": "markdown",
     "metadata": {},
     "source": [
      "Create a (python) list with all the individual bias frames.  Do a pixel-by-pixel median combination (no outlier rejection at the moment).  Resulting master bias will be named \"Bias-C1.fits\"."
     ]
    },
    {
     "cell_type": "code",
     "collapsed": false,
     "input": [
      "bimages = glob.glob(\"20130716*C1b.fits\")"
     ],
     "language": "python",
     "metadata": {},
     "outputs": [],
     "prompt_number": 6
    },
    {
     "cell_type": "code",
     "collapsed": false,
     "input": [
      "ratir_detrend.ratir_bias(bimages, camera=\"C1\", outpre=\"Bias\")"
     ],
     "language": "python",
     "metadata": {},
     "outputs": [],
     "prompt_number": 7
    },
    {
     "cell_type": "markdown",
     "metadata": {},
     "source": [
      "Create a list with all the individual flat frames.  Subtract master bias from all of these.  Throw out ones where the median is too high (saturated / nonlinear) or too low (not enough statistics).  Divide each individual flat by its median, then do a median combination of the resulting image to generate a master flat (Flat-C1-i.fits)."
     ]
    },
    {
     "cell_type": "code",
     "collapsed": false,
     "input": [
      "fimages = glob.glob(\"20130716*C1f.fits\")"
     ],
     "language": "python",
     "metadata": {},
     "outputs": [],
     "prompt_number": 8
    },
    {
     "cell_type": "code",
     "collapsed": false,
     "input": [
      "ratir_detrend.ratir_flat(fimages, camera=\"C1\", outpre=\"Flat\", bias=\"Bias-C1.fits\", maximum=ratir_detrend.C1MAX, minimum=ratir_detrend.C1MIN, fkey=\"FILTER\")"
     ],
     "language": "python",
     "metadata": {},
     "outputs": [],
     "prompt_number": 9
    },
    {
     "cell_type": "markdown",
     "metadata": {},
     "source": [
      "Process all of the science images.  Subtract master bias and then divide by master flat.  Resulting frames output to new images with the prefix \"d\"."
     ]
    },
    {
     "cell_type": "code",
     "collapsed": false,
     "input": [
      "sciimages = glob.glob(\"20130716*C1o.fits\")"
     ],
     "language": "python",
     "metadata": {},
     "outputs": [],
     "prompt_number": 10
    },
    {
     "cell_type": "code",
     "collapsed": false,
     "input": [
      "ratir_detrend.ratir_detrend(sciimages, bias=\"Bias-C1.fits\", flat=\"Flat-C1-i.fits\", outpre=\"d\")"
     ],
     "language": "python",
     "metadata": {},
     "outputs": [],
     "prompt_number": 11
    },
    {
     "cell_type": "code",
     "collapsed": false,
     "input": [
      "ls"
     ],
     "language": "python",
     "metadata": {},
     "outputs": [
      {
       "output_type": "stream",
       "stream": "stdout",
       "text": [
        "20130716T031009C1f.fits   20130716T032149C1f.fits   20130716T110712C1o.fits\r\n",
        "20130716T031039C1f.fits   20130716T032218C1f.fits   20130716T110750C1o.fits\r\n",
        "20130716T031108C1f.fits   20130716T032429C1b.fits   20130716T110834C1o.fits\r\n",
        "20130716T031142C1f.fits   20130716T032433C1b.fits   20130716T110910C1o.fits\r\n",
        "20130716T031209C1f.fits   20130716T032437C1b.fits   20130716T110958C1o.fits\r\n",
        "20130716T031239C1f.fits   20130716T032441C1b.fits   20130716T111041C1o.fits\r\n",
        "20130716T031309C1f.fits   20130716T032445C1b.fits   20130716T111123C1o.fits\r\n",
        "20130716T031339C1f.fits   20130716T032449C1b.fits   Bias-C1.fits\r\n",
        "20130716T031416C1f.fits   20130716T032453C1b.fits   Flat-C1-i.fits\r\n",
        "20130716T031452C1f.fits   20130716T032457C1b.fits   d20130716T110452C1o.fits\r\n",
        "20130716T031522C1f.fits   20130716T035610C1d.fits   d20130716T110553C1o.fits\r\n",
        "20130716T031549C1f.fits   20130716T035734C1d.fits   d20130716T110629C1o.fits\r\n",
        "20130716T031616C1f.fits   20130716T035858C1d.fits   d20130716T110712C1o.fits\r\n",
        "20130716T031645C1f.fits   20130716T040022C1d.fits   d20130716T110750C1o.fits\r\n",
        "20130716T031714C1f.fits   20130716T040146C1d.fits   d20130716T110834C1o.fits\r\n",
        "20130716T031745C1f.fits   20130716T040310C1d.fits   d20130716T110910C1o.fits\r\n",
        "20130716T031815C1f.fits   20130716T040434C1d.fits   d20130716T110958C1o.fits\r\n",
        "20130716T031845C1f.fits   20130716T040558C1d.fits   d20130716T111041C1o.fits\r\n",
        "20130716T031915C1f.fits   20130716T040722C1d.fits   d20130716T111123C1o.fits\r\n",
        "20130716T031947C1f.fits   20130716T040846C1d.fits   ratir_detrend.ipynb\r\n",
        "20130716T032023C1f.fits   20130716T110452C1o.fits   \u001b[31mratir_detrend.py\u001b[m\u001b[m*\r\n",
        "20130716T032055C1f.fits   20130716T110553C1o.fits   ratir_detrend.pyc\r\n",
        "20130716T032122C1f.fits   20130716T110629C1o.fits\r\n"
       ]
      }
     ],
     "prompt_number": 12
    },
    {
     "cell_type": "markdown",
     "metadata": {},
     "source": [
      "Resulting images look reasonable (sky level looks good, reasonably flat).  To do: bad pixel masking, outlier rejection before median combination."
     ]
    },
    {
     "cell_type": "code",
     "collapsed": false,
     "input": [],
     "language": "python",
     "metadata": {},
     "outputs": []
    }
   ],
   "metadata": {}
  }
 ]
}