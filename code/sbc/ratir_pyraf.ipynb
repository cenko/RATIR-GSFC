{
 "metadata": {
  "name": ""
 },
 "nbformat": 3,
 "nbformat_minor": 0,
 "worksheets": [
  {
   "cells": [
    {
     "cell_type": "code",
     "collapsed": false,
     "input": [
      "from pyraf import iraf"
     ],
     "language": "python",
     "metadata": {},
     "outputs": [],
     "prompt_number": 1
    },
    {
     "cell_type": "code",
     "collapsed": false,
     "input": [
      "ls"
     ],
     "language": "python",
     "metadata": {},
     "outputs": [
      {
       "output_type": "stream",
       "stream": "stdout",
       "text": [
        "20130716T031009C1f.fits  20130716T031915C1f.fits  20130716T040022C1d.fits\r\n",
        "20130716T031039C1f.fits  20130716T031947C1f.fits  20130716T040146C1d.fits\r\n",
        "20130716T031108C1f.fits  20130716T032023C1f.fits  20130716T040310C1d.fits\r\n",
        "20130716T031142C1f.fits  20130716T032055C1f.fits  20130716T040434C1d.fits\r\n",
        "20130716T031209C1f.fits  20130716T032122C1f.fits  20130716T040558C1d.fits\r\n",
        "20130716T031239C1f.fits  20130716T032149C1f.fits  20130716T040722C1d.fits\r\n",
        "20130716T031309C1f.fits  20130716T032218C1f.fits  20130716T040846C1d.fits\r\n",
        "20130716T031339C1f.fits  20130716T032429C1b.fits  20130716T110452C1o.fits\r\n",
        "20130716T031416C1f.fits  20130716T032433C1b.fits  20130716T110553C1o.fits\r\n",
        "20130716T031452C1f.fits  20130716T032437C1b.fits  20130716T110629C1o.fits\r\n",
        "20130716T031522C1f.fits  20130716T032441C1b.fits  20130716T110712C1o.fits\r\n",
        "20130716T031549C1f.fits  20130716T032445C1b.fits  20130716T110750C1o.fits\r\n",
        "20130716T031616C1f.fits  20130716T032449C1b.fits  20130716T110834C1o.fits\r\n",
        "20130716T031645C1f.fits  20130716T032453C1b.fits  20130716T110910C1o.fits\r\n",
        "20130716T031714C1f.fits  20130716T032457C1b.fits  20130716T110958C1o.fits\r\n",
        "20130716T031745C1f.fits  20130716T035610C1d.fits  20130716T111041C1o.fits\r\n",
        "20130716T031815C1f.fits  20130716T035734C1d.fits  20130716T111123C1o.fits\r\n",
        "20130716T031845C1f.fits  20130716T035858C1d.fits  ratir_pyraf.ipynb\r\n"
       ]
      }
     ],
     "prompt_number": 2
    },
    {
     "cell_type": "code",
     "collapsed": false,
     "input": [
      "iraf.imred()"
     ],
     "language": "python",
     "metadata": {},
     "outputs": [
      {
       "output_type": "stream",
       "stream": "stdout",
       "text": [
        "imred/:\n",
        " argus/         ctioslit/       hydra/          kpnocoude/      vtel/\n",
        " bias/          dtoi/           iids/           kpnoslit/\n",
        " ccdred/        echelle/        irred/          quadred/\n",
        " crutil/        generic/        irs/            specred/\n"
       ]
      }
     ],
     "prompt_number": 4
    },
    {
     "cell_type": "code",
     "collapsed": false,
     "input": [
      "iraf.ccdred()"
     ],
     "language": "python",
     "metadata": {},
     "outputs": [
      {
       "output_type": "stream",
       "stream": "stdout",
       "text": [
        "ccdred/:\n",
        " badpiximage    ccdlist         combine         mkillumcor      setinstrument\n",
        " ccdgroups      ccdmask         darkcombine     mkillumflat     zerocombine\n",
        " ccdhedit       ccdproc         flatcombine     mkskycor\n",
        " ccdinstrument  ccdtest         mkfringecor     mkskyflat\n"
       ]
      }
     ],
     "prompt_number": 5
    },
    {
     "cell_type": "code",
     "collapsed": false,
     "input": [
      "iraf.zerocombine(\"20130716*C1b.fits\", out=\"Bias-C1.p.fits\", combine=\"median\", reject=\"avsigclip\", ccdtype=\"\", \n",
      "                 process=iraf.no, delete=iraf.no, clobber=iraf.no, scale=\"none\", lsigma=3.0, hsigma=3.0, \n",
      "                 rdnoise=5.0, gain=4.0) # Need to check gain and read noise!"
     ],
     "language": "python",
     "metadata": {},
     "outputs": [],
     "prompt_number": 6
    },
    {
     "cell_type": "code",
     "collapsed": false,
     "input": [
      "iraf.ccdproc(\"20130716*C1f.fits\", output=\"\", ccdtype=\"\", noproc=iraf.no, fixpix=iraf.no, overscan=iraf.no,\n",
      "             trim=iraf.no, zerocor=iraf.yes, darkcor=iraf.no, flatcor=iraf.no, illumcor=iraf.no, \n",
      "             fringecor=iraf.no, readcor=iraf.no, scancor=iraf.no, zero=\"Bias-C1.p.fits\") # Note overwrites images!"
     ],
     "language": "python",
     "metadata": {},
     "outputs": [],
     "prompt_number": 7
    },
    {
     "cell_type": "code",
     "collapsed": false,
     "input": [
      "gflats = []; "
     ],
     "language": "python",
     "metadata": {},
     "outputs": [],
     "prompt_number": 17
    },
    {
     "cell_type": "code",
     "collapsed": false,
     "input": [
      "iraf.stsdas(); iraf.stsdas.hst_calib(); iraf.stsdas.hst_calib.nicmos(); # Need for median calculation"
     ],
     "language": "python",
     "metadata": {},
     "outputs": [
      {
       "output_type": "stream",
       "stream": "stdout",
       "text": [
        "\n",
        "\n",
        "      +------------------------------------------------------------+\n",
        "      |       Space Telescope Science Data Analysis System         |    \n",
        "      |                   STSDAS Version 3.15                      |\n",
        "      |                                                            |\n",
        "      |   Space Telescope Science Institute, Baltimore, Maryland   |\n",
        "      |   Copyright (C) 2003 Association of Universities for       |\n",
        "      |            Research in Astronomy, Inc.(AURA)               |\n",
        "      |       See stsdas$copyright.stsdas for terms of use.        |\n",
        "      |         For help, send e-mail to help@stsci.edu            |\n",
        "      |                                                            |\n",
        "      +------------------------------------------------------------+\n"
       ]
      },
      {
       "output_type": "stream",
       "stream": "stdout",
       "text": [
        "stsdas/:\n",
        " analysis/      examples        hst_calib/      sobsolete/\n",
        " contrib/       fitsio/         playpen/        toolbox/\n",
        " describe       graphics/       problems\n",
        "hst_calib/:\n",
        " acs/           fos/            nicmos/         synphot/\n",
        " ctools/        hrs/            paperprod/      wfc3/\n",
        " foc/           hstcos/         stis/           wfpc/\n",
        "nicmos/:"
       ]
      },
      {
       "output_type": "stream",
       "stream": "stdout",
       "text": [
        "\n",
        " CalTempFromBias iterstat       nicpipe         puftcorr        sampinfo\n",
        " asnexpand      markdq          pedsky          rnlincor        statregions@\n",
        " biaseq         mosdisplay      pedsub          saaclean\n",
        " calnica        ndisplay        pstack          sampcum\n",
        " calnicb        nic_rem_persist pstats          sampdiff\n"
       ]
      }
     ],
     "prompt_number": 9
    },
    {
     "cell_type": "code",
     "collapsed": false,
     "input": [
      "import glob; flis = glob.glob(\"20130716*C1f.fits\")"
     ],
     "language": "python",
     "metadata": {},
     "outputs": [],
     "prompt_number": 10
    },
    {
     "cell_type": "code",
     "collapsed": false,
     "input": [
      "for f in flis:\n",
      "    iraf.iterstat(f, pri=iraf.no, verbose=iraf.no)\n",
      "    if (iraf.iterstat.median < 13000.0) and (iraf.iterstat.median > 2000.0):\n",
      "        gflats.append(f)"
     ],
     "language": "python",
     "metadata": {},
     "outputs": [],
     "prompt_number": 18
    },
    {
     "cell_type": "code",
     "collapsed": false,
     "input": [
      "iraf.flatcombine(\",\".join(gflats), output=\"Flat-C1-i.p.fits\", combine=\"median\", reject=\"avsigclip\", ccdtype=\"\",\n",
      "                 process=iraf.no, subsets=iraf.no, delete=iraf.no, clobber=iraf.no, scale=\"median\", lsigma=3.0,\n",
      "                 hsigma=3.0, rdnoise=5.0, gain=4.0) # Need to check read noise and gain!"
     ],
     "language": "python",
     "metadata": {},
     "outputs": [],
     "prompt_number": 21
    },
    {
     "cell_type": "code",
     "collapsed": false,
     "input": [
      "iraf.ccdproc(\"20130716*C1o.fits\", output=\"\", ccdtype=\"\", noproc=iraf.no, fixpix=iraf.no, overscan=iraf.no,\n",
      "             trim=iraf.no, zerocor=iraf.yes, darkcor=iraf.no, flatcor=iraf.yes, illumcor=iraf.no, \n",
      "             fringecor=iraf.no, readcor=iraf.no, scancor=iraf.no, zero=\"Bias-C1.p.fits\",\n",
      "             flat=\"Flat-C1-i.p.fits\") # Note overwrites images!"
     ],
     "language": "python",
     "metadata": {},
     "outputs": [],
     "prompt_number": 22
    },
    {
     "cell_type": "code",
     "collapsed": false,
     "input": [
      "ls"
     ],
     "language": "python",
     "metadata": {},
     "outputs": [
      {
       "output_type": "stream",
       "stream": "stdout",
       "text": [
        "20130716T031009C1f.fits  20130716T031947C1f.fits  20130716T040310C1d.fits\r\n",
        "20130716T031039C1f.fits  20130716T032023C1f.fits  20130716T040434C1d.fits\r\n",
        "20130716T031108C1f.fits  20130716T032055C1f.fits  20130716T040558C1d.fits\r\n",
        "20130716T031142C1f.fits  20130716T032122C1f.fits  20130716T040722C1d.fits\r\n",
        "20130716T031209C1f.fits  20130716T032149C1f.fits  20130716T040846C1d.fits\r\n",
        "20130716T031239C1f.fits  20130716T032218C1f.fits  20130716T110452C1o.fits\r\n",
        "20130716T031309C1f.fits  20130716T032429C1b.fits  20130716T110553C1o.fits\r\n",
        "20130716T031339C1f.fits  20130716T032433C1b.fits  20130716T110629C1o.fits\r\n",
        "20130716T031416C1f.fits  20130716T032437C1b.fits  20130716T110712C1o.fits\r\n",
        "20130716T031452C1f.fits  20130716T032441C1b.fits  20130716T110750C1o.fits\r\n",
        "20130716T031522C1f.fits  20130716T032445C1b.fits  20130716T110834C1o.fits\r\n",
        "20130716T031549C1f.fits  20130716T032449C1b.fits  20130716T110910C1o.fits\r\n",
        "20130716T031616C1f.fits  20130716T032453C1b.fits  20130716T110958C1o.fits\r\n",
        "20130716T031645C1f.fits  20130716T032457C1b.fits  20130716T111041C1o.fits\r\n",
        "20130716T031714C1f.fits  20130716T035610C1d.fits  20130716T111123C1o.fits\r\n",
        "20130716T031745C1f.fits  20130716T035734C1d.fits  Bias-C1.p.fits\r\n",
        "20130716T031815C1f.fits  20130716T035858C1d.fits  Flat-C1-i.p.fits\r\n",
        "20130716T031845C1f.fits  20130716T040022C1d.fits  logfile\r\n",
        "20130716T031915C1f.fits  20130716T040146C1d.fits  ratir_pyraf.ipynb\r\n"
       ]
      }
     ],
     "prompt_number": 23
    },
    {
     "cell_type": "code",
     "collapsed": false,
     "input": [],
     "language": "python",
     "metadata": {},
     "outputs": []
    }
   ],
   "metadata": {}
  }
 ]
}